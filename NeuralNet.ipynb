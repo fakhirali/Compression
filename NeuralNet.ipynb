{
 "cells": [
  {
   "cell_type": "code",
   "execution_count": 1,
   "id": "de0c896f",
   "metadata": {},
   "outputs": [],
   "source": [
    "import gzip\n",
    "import random\n",
    "from n_gram import Ngram\n",
    "from backoff import Backoff\n",
    "from weighted import LearnedWeighted\n",
    "from utils import run_model, compress, decompress\n",
    "import numpy as np\n",
    "from testing_models import get_random_enwik\n",
    "from coding import get_bytes_to_write\n",
    "import torch\n",
    "import torch.nn as nn\n",
    "from tqdm import tqdm"
   ]
  },
  {
   "cell_type": "code",
   "execution_count": 16,
   "id": "52015dd7",
   "metadata": {},
   "outputs": [],
   "source": [
    "m = nn.TransformerEncoderLayer(64,2,64)"
   ]
  },
  {
   "cell_type": "code",
   "execution_count": 18,
   "id": "685338e1",
   "metadata": {},
   "outputs": [
    {
     "data": {
      "text/plain": [
       "torch.Size([1, 64])"
      ]
     },
     "execution_count": 18,
     "metadata": {},
     "output_type": "execute_result"
    }
   ],
   "source": [
    "inp = torch.randn(1,64)\n",
    "m(inp).shape"
   ]
  },
  {
   "cell_type": "code",
   "execution_count": 49,
   "id": "612514a1",
   "metadata": {},
   "outputs": [],
   "source": [
    "class NN(nn.Module):\n",
    "    def __init__(self, n, n_layers, h_dim):\n",
    "        super().__init__()\n",
    "        self.inp_layer = nn.Linear(n, h_dim)\n",
    "        layers = []\n",
    "        for i in range(n_layers):\n",
    "            layers.append(nn.Linear(h_dim, h_dim))\n",
    "            layers.append(nn.ReLU())\n",
    "        self.h_layers = nn.Sequential(*layers)\n",
    "        self.out_layer = nn.Linear(h_dim, 2)\n",
    "        self.relu = nn.ReLU()\n",
    "        self.sofmax = nn.Softmax(1)\n",
    "    def forward(self, x):\n",
    "        x = self.relu(self.inp_layer(x))\n",
    "        x = self.h_layers(x)\n",
    "        x = self.out_layer(x)\n",
    "        x = self.sofmax(x)\n",
    "        return x\n",
    "\n",
    "class Transformer(nn.Module):\n",
    "    def __init__(self, n, n_layers, h_dim):\n",
    "        super().__init__()\n",
    "        self.inp_layer = nn.Linear(n, h_dim)\n",
    "        self.t_encoder = nn.TransformerEncoderLayer(h_dim,n_layers,h_dim)\n",
    "        self.out_layer = nn.Linear(h_dim, 2)\n",
    "        self.relu = nn.ReLU()\n",
    "        self.sofmax = nn.Softmax(1)\n",
    "    def forward(self, x):\n",
    "        x = self.relu(self.inp_layer(x))\n",
    "        x = self.t_encoder(x)\n",
    "        x = self.relu(x)\n",
    "        x = self.out_layer(x)\n",
    "        x = self.sofmax(x)\n",
    "        return x"
   ]
  },
  {
   "cell_type": "code",
   "execution_count": 33,
   "id": "a4e0c080",
   "metadata": {},
   "outputs": [],
   "source": [
    "# neural_net = NN(4, 1, 16)\n",
    "neural_net = Transformer(4, 1, 16)"
   ]
  },
  {
   "cell_type": "code",
   "execution_count": 34,
   "id": "0070907b",
   "metadata": {},
   "outputs": [],
   "source": [
    "inp = torch.tensor([[1.0,0,1,0]])"
   ]
  },
  {
   "cell_type": "code",
   "execution_count": 35,
   "id": "c1edb479",
   "metadata": {},
   "outputs": [
    {
     "data": {
      "text/plain": [
       "tensor([[1., 0., 1., 0.]])"
      ]
     },
     "execution_count": 35,
     "metadata": {},
     "output_type": "execute_result"
    }
   ],
   "source": [
    "inp"
   ]
  },
  {
   "cell_type": "code",
   "execution_count": 36,
   "id": "0e782c43",
   "metadata": {},
   "outputs": [
    {
     "data": {
      "text/plain": [
       "tensor([[0.5009, 0.4991]], grad_fn=<SoftmaxBackward0>)"
      ]
     },
     "execution_count": 36,
     "metadata": {},
     "output_type": "execute_result"
    }
   ],
   "source": [
    "neural_net(inp)"
   ]
  },
  {
   "cell_type": "code",
   "execution_count": 63,
   "id": "93a36ec9",
   "metadata": {},
   "outputs": [],
   "source": [
    "class Model:\n",
    "    def __init__(self, n):\n",
    "        self.n = n\n",
    "#         self.nn = NN(n, 1, 128)\n",
    "        self.nn = Transformer(n, 2, 128)\n",
    "        \n",
    "        self.device = 'cuda' if torch.cuda.is_available() else 'cpu'\n",
    "        self.nn.to(self.device)\n",
    "        self.lr = 1e-4\n",
    "        self.optimizer = torch.optim.Adam(self.nn.parameters(), self.lr)\n",
    "        self.context = [0.] * n\n",
    "        self.temp_prob = None\n",
    "    \n",
    "    def get_prob(self):\n",
    "        inp = torch.tensor([self.context], device=self.device)\n",
    "        out = self.nn(inp)\n",
    "        self.temp_prob = out\n",
    "        return out[0][0].item()\n",
    "    \n",
    "    def update(self, bit):\n",
    "        if bit == '1':\n",
    "            loss = torch.log2(1 / ( self.temp_prob[0][1]))\n",
    "        if bit == '0':\n",
    "            loss = torch.log2(1 / (self.temp_prob[0][0]))\n",
    "        loss.backward()\n",
    "        self.optimizer.step()\n",
    "        self.optimizer.zero_grad()\n",
    "        \n",
    "        self.context += [1.] if bit == '1' else [0.]\n",
    "        self.context = self.context[-self.n:]\n",
    "    \n",
    "    def reset(self):\n",
    "        pass"
   ]
  },
  {
   "cell_type": "code",
   "execution_count": 58,
   "id": "50d88fef",
   "metadata": {},
   "outputs": [],
   "source": [
    "data = get_random_enwik(int(1e3))"
   ]
  },
  {
   "cell_type": "code",
   "execution_count": 64,
   "id": "859d1d70",
   "metadata": {},
   "outputs": [],
   "source": [
    "model = Model(128)"
   ]
  },
  {
   "cell_type": "code",
   "execution_count": 65,
   "id": "42325286",
   "metadata": {},
   "outputs": [],
   "source": [
    "compressed_data, theo = compress(model, data)\n",
    "compressed_data = get_bytes_to_write(compressed_data)"
   ]
  },
  {
   "cell_type": "code",
   "execution_count": 66,
   "id": "a7b66847",
   "metadata": {},
   "outputs": [
    {
     "data": {
      "text/plain": [
       "(1000, 776)"
      ]
     },
     "execution_count": 66,
     "metadata": {},
     "output_type": "execute_result"
    }
   ],
   "source": [
    "len(data), len(compressed_data)"
   ]
  },
  {
   "cell_type": "code",
   "execution_count": null,
   "id": "e7c612f2",
   "metadata": {},
   "outputs": [],
   "source": []
  },
  {
   "cell_type": "code",
   "execution_count": null,
   "id": "3650b109",
   "metadata": {},
   "outputs": [],
   "source": []
  },
  {
   "cell_type": "code",
   "execution_count": 67,
   "id": "f74f9b89",
   "metadata": {},
   "outputs": [],
   "source": [
    "data = get_random_enwik(int(1e3))"
   ]
  },
  {
   "cell_type": "code",
   "execution_count": 68,
   "id": "ee36bf78",
   "metadata": {},
   "outputs": [
    {
     "name": "stderr",
     "output_type": "stream",
     "text": [
      "  0%|                                                    | 0/62 [00:04<?, ?it/s]\n"
     ]
    },
    {
     "ename": "KeyboardInterrupt",
     "evalue": "",
     "output_type": "error",
     "traceback": [
      "\u001b[0;31m---------------------------------------------------------------------------\u001b[0m",
      "\u001b[0;31mKeyboardInterrupt\u001b[0m                         Traceback (most recent call last)",
      "\u001b[0;32m/tmp/ipykernel_667079/2926979754.py\u001b[0m in \u001b[0;36m<module>\u001b[0;34m\u001b[0m\n\u001b[1;32m      2\u001b[0m \u001b[0;32mfor\u001b[0m \u001b[0mi\u001b[0m \u001b[0;32min\u001b[0m \u001b[0mtqdm\u001b[0m\u001b[0;34m(\u001b[0m\u001b[0mrange\u001b[0m\u001b[0;34m(\u001b[0m\u001b[0;36m8\u001b[0m\u001b[0;34m,\u001b[0m \u001b[0;36m500\u001b[0m\u001b[0;34m,\u001b[0m \u001b[0;36m8\u001b[0m\u001b[0;34m)\u001b[0m\u001b[0;34m)\u001b[0m\u001b[0;34m:\u001b[0m\u001b[0;34m\u001b[0m\u001b[0;34m\u001b[0m\u001b[0m\n\u001b[1;32m      3\u001b[0m     \u001b[0mmodel\u001b[0m \u001b[0;34m=\u001b[0m \u001b[0mModel\u001b[0m\u001b[0;34m(\u001b[0m\u001b[0mi\u001b[0m\u001b[0;34m)\u001b[0m\u001b[0;34m\u001b[0m\u001b[0;34m\u001b[0m\u001b[0m\n\u001b[0;32m----> 4\u001b[0;31m     \u001b[0mcompressed_data\u001b[0m\u001b[0;34m,\u001b[0m \u001b[0mtheo\u001b[0m \u001b[0;34m=\u001b[0m \u001b[0mcompress\u001b[0m\u001b[0;34m(\u001b[0m\u001b[0mmodel\u001b[0m\u001b[0;34m,\u001b[0m \u001b[0mdata\u001b[0m\u001b[0;34m)\u001b[0m\u001b[0;34m\u001b[0m\u001b[0;34m\u001b[0m\u001b[0m\n\u001b[0m\u001b[1;32m      5\u001b[0m     \u001b[0mcompressed_data\u001b[0m \u001b[0;34m=\u001b[0m \u001b[0mget_bytes_to_write\u001b[0m\u001b[0;34m(\u001b[0m\u001b[0mcompressed_data\u001b[0m\u001b[0;34m)\u001b[0m\u001b[0;34m\u001b[0m\u001b[0;34m\u001b[0m\u001b[0m\n\u001b[1;32m      6\u001b[0m     \u001b[0ml\u001b[0m\u001b[0;34m.\u001b[0m\u001b[0mappend\u001b[0m\u001b[0;34m(\u001b[0m\u001b[0mlen\u001b[0m\u001b[0;34m(\u001b[0m\u001b[0mcompressed_data\u001b[0m\u001b[0;34m)\u001b[0m\u001b[0;34m)\u001b[0m\u001b[0;34m\u001b[0m\u001b[0;34m\u001b[0m\u001b[0m\n",
      "\u001b[0;32m~/Code/Compression/utils.py\u001b[0m in \u001b[0;36mcompress\u001b[0;34m(model, data)\u001b[0m\n\u001b[1;32m     14\u001b[0m     \u001b[0mtheoretical_compression\u001b[0m \u001b[0;34m=\u001b[0m \u001b[0;36m0\u001b[0m\u001b[0;34m\u001b[0m\u001b[0;34m\u001b[0m\u001b[0m\n\u001b[1;32m     15\u001b[0m     \u001b[0;32mfor\u001b[0m \u001b[0mbit\u001b[0m \u001b[0;32min\u001b[0m \u001b[0;34m(\u001b[0m\u001b[0mbitstream\u001b[0m\u001b[0;34m(\u001b[0m\u001b[0mdata\u001b[0m\u001b[0;34m)\u001b[0m\u001b[0;34m)\u001b[0m\u001b[0;34m:\u001b[0m\u001b[0;34m\u001b[0m\u001b[0;34m\u001b[0m\u001b[0m\n\u001b[0;32m---> 16\u001b[0;31m         \u001b[0mprob\u001b[0m \u001b[0;34m=\u001b[0m \u001b[0mmodel\u001b[0m\u001b[0;34m.\u001b[0m\u001b[0mget_prob\u001b[0m\u001b[0;34m(\u001b[0m\u001b[0;34m)\u001b[0m\u001b[0;34m\u001b[0m\u001b[0;34m\u001b[0m\u001b[0m\n\u001b[0m\u001b[1;32m     17\u001b[0m         \u001b[0mencoder\u001b[0m\u001b[0;34m.\u001b[0m\u001b[0mencode\u001b[0m\u001b[0;34m(\u001b[0m\u001b[0mbit\u001b[0m\u001b[0;34m,\u001b[0m \u001b[0mprob\u001b[0m\u001b[0;34m)\u001b[0m\u001b[0;34m\u001b[0m\u001b[0;34m\u001b[0m\u001b[0m\n\u001b[1;32m     18\u001b[0m         \u001b[0mmodel\u001b[0m\u001b[0;34m.\u001b[0m\u001b[0mupdate\u001b[0m\u001b[0;34m(\u001b[0m\u001b[0mbit\u001b[0m\u001b[0;34m)\u001b[0m\u001b[0;34m\u001b[0m\u001b[0;34m\u001b[0m\u001b[0m\n",
      "\u001b[0;32m/tmp/ipykernel_667079/2351102819.py\u001b[0m in \u001b[0;36mget_prob\u001b[0;34m(self)\u001b[0m\n\u001b[1;32m     16\u001b[0m         \u001b[0mout\u001b[0m \u001b[0;34m=\u001b[0m \u001b[0mself\u001b[0m\u001b[0;34m.\u001b[0m\u001b[0mnn\u001b[0m\u001b[0;34m(\u001b[0m\u001b[0minp\u001b[0m\u001b[0;34m)\u001b[0m\u001b[0;34m\u001b[0m\u001b[0;34m\u001b[0m\u001b[0m\n\u001b[1;32m     17\u001b[0m         \u001b[0mself\u001b[0m\u001b[0;34m.\u001b[0m\u001b[0mtemp_prob\u001b[0m \u001b[0;34m=\u001b[0m \u001b[0mout\u001b[0m\u001b[0;34m\u001b[0m\u001b[0;34m\u001b[0m\u001b[0m\n\u001b[0;32m---> 18\u001b[0;31m         \u001b[0;32mreturn\u001b[0m \u001b[0mout\u001b[0m\u001b[0;34m[\u001b[0m\u001b[0;36m0\u001b[0m\u001b[0;34m]\u001b[0m\u001b[0;34m[\u001b[0m\u001b[0;36m0\u001b[0m\u001b[0;34m]\u001b[0m\u001b[0;34m.\u001b[0m\u001b[0mitem\u001b[0m\u001b[0;34m(\u001b[0m\u001b[0;34m)\u001b[0m\u001b[0;34m\u001b[0m\u001b[0;34m\u001b[0m\u001b[0m\n\u001b[0m\u001b[1;32m     19\u001b[0m \u001b[0;34m\u001b[0m\u001b[0m\n\u001b[1;32m     20\u001b[0m     \u001b[0;32mdef\u001b[0m \u001b[0mupdate\u001b[0m\u001b[0;34m(\u001b[0m\u001b[0mself\u001b[0m\u001b[0;34m,\u001b[0m \u001b[0mbit\u001b[0m\u001b[0;34m)\u001b[0m\u001b[0;34m:\u001b[0m\u001b[0;34m\u001b[0m\u001b[0;34m\u001b[0m\u001b[0m\n",
      "\u001b[0;31mKeyboardInterrupt\u001b[0m: "
     ]
    }
   ],
   "source": [
    "# l = []\n",
    "for i in tqdm(range(8, 500, 8)):\n",
    "    model = Model(i)\n",
    "    compressed_data, theo = compress(model, data)\n",
    "    compressed_data = get_bytes_to_write(compressed_data)\n",
    "    l.append(len(compressed_data))"
   ]
  },
  {
   "cell_type": "code",
   "execution_count": 37,
   "id": "6fbfe692",
   "metadata": {},
   "outputs": [],
   "source": [
    "import matplotlib.pyplot as plt"
   ]
  },
  {
   "cell_type": "code",
   "execution_count": 52,
   "id": "a2059fbb",
   "metadata": {},
   "outputs": [
    {
     "data": {
      "image/png": "[encoded data removed]",
      "text/plain": [
       "<Figure size 432x288 with 1 Axes>"
      ]
     },
     "metadata": {
      "needs_background": "light"
     },
     "output_type": "display_data"
    }
   ],
   "source": [
    "plt.plot(range(8, 500, 8), l)\n",
    "plt.xlabel('context length')\n",
    "plt.ylabel('compression size')\n",
    "plt.title('NNs like more context')\n",
    "plt.savefig('files/NN_like_more_context.jpg', dpi=200)\n",
    "plt.show()"
   ]
  },
  {
   "cell_type": "code",
   "execution_count": null,
   "id": "d1109fcf",
   "metadata": {},
   "outputs": [],
   "source": []
  }
 ],
 "metadata": {
  "kernelspec": {
   "display_name": "Python 3 (ipykernel)",
   "language": "python",
   "name": "python3"
  },
  "language_info": {
   "codemirror_mode": {
    "name": "ipython",
    "version": 3
   },
   "file_extension": ".py",
   "mimetype": "text/x-python",
   "name": "python",
   "nbconvert_exporter": "python",
   "pygments_lexer": "ipython3",
   "version": "3.10.12"
  }
 },
 "nbformat": 4,
 "nbformat_minor": 5
}
