{
 "cells": [
  {
   "cell_type": "code",
   "execution_count": 1,
   "id": "4cc312e5",
   "metadata": {},
   "outputs": [],
   "source": [
    "import gzip\n",
    "import random\n",
    "from n_gram import Ngram\n",
    "from backoff import Backoff\n",
    "from weighted import LearnedWeighted\n",
    "from utils import run_model, compress, decompress\n",
    "import numpy as np\n",
    "from testing_models import get_random_enwik\n",
    "from coding import get_bytes_to_write"
   ]
  },
  {
   "cell_type": "code",
   "execution_count": 2,
   "id": "490aa6e7",
   "metadata": {},
   "outputs": [],
   "source": [
    "class EvenModel:\n",
    "    def __init__(self):\n",
    "        pass\n",
    "    \n",
    "    def get_prob(self):\n",
    "        return 0.25\n",
    "    \n",
    "    def update(self, bit):\n",
    "        pass\n",
    "    \n",
    "    def reset(self):\n",
    "        pass"
   ]
  },
  {
   "cell_type": "code",
   "execution_count": 77,
   "id": "599594cc",
   "metadata": {},
   "outputs": [],
   "source": [
    "data = get_random_enwik(int(1e3))"
   ]
  },
  {
   "cell_type": "code",
   "execution_count": null,
   "id": "dccf1670",
   "metadata": {},
   "outputs": [],
   "source": []
  },
  {
   "cell_type": "code",
   "execution_count": 85,
   "id": "859d1d70",
   "metadata": {},
   "outputs": [],
   "source": [
    "model = Ngram(8)"
   ]
  },
  {
   "cell_type": "code",
   "execution_count": 86,
   "id": "42325286",
   "metadata": {},
   "outputs": [],
   "source": [
    "compressed_data, theo = compress(model, data)\n",
    "compressed_data = get_bytes_to_write(compressed_data)"
   ]
  },
  {
   "cell_type": "code",
   "execution_count": 87,
   "id": "a7b66847",
   "metadata": {},
   "outputs": [
    {
     "data": {
      "text/plain": [
       "(1000, 784)"
      ]
     },
     "execution_count": 87,
     "metadata": {},
     "output_type": "execute_result"
    }
   ],
   "source": [
    "len(data), len(compressed_data)"
   ]
  },
  {
   "cell_type": "code",
   "execution_count": 88,
   "id": "42523c99",
   "metadata": {},
   "outputs": [],
   "source": [
    "model.reset()"
   ]
  },
  {
   "cell_type": "code",
   "execution_count": null,
   "id": "52a380ee",
   "metadata": {},
   "outputs": [],
   "source": []
  },
  {
   "cell_type": "code",
   "execution_count": 92,
   "id": "49aaac4a",
   "metadata": {},
   "outputs": [],
   "source": [
    "# other_model = Ngram(8)\n",
    "other_model = Backoff(3)\n",
    "\n",
    "cc, tt = compress(other_model, compressed_data)\n",
    "cc = get_bytes_to_write(cc)"
   ]
  },
  {
   "cell_type": "code",
   "execution_count": 93,
   "id": "c0e23823",
   "metadata": {},
   "outputs": [
    {
     "data": {
      "text/plain": [
       "(789, 784)"
      ]
     },
     "execution_count": 93,
     "metadata": {},
     "output_type": "execute_result"
    }
   ],
   "source": [
    "len(cc), len(compressed_data)"
   ]
  },
  {
   "cell_type": "code",
   "execution_count": 94,
   "id": "8062a0e9",
   "metadata": {},
   "outputs": [
    {
     "data": {
      "text/plain": [
       "979"
      ]
     },
     "execution_count": 94,
     "metadata": {},
     "output_type": "execute_result"
    }
   ],
   "source": [
    "other_model.reset()\n",
    "\n",
    "x, theo = compress(other_model, data)\n",
    "x = get_bytes_to_write(x)\n",
    "len(x)"
   ]
  },
  {
   "cell_type": "code",
   "execution_count": 97,
   "id": "6bd61b4f",
   "metadata": {},
   "outputs": [],
   "source": [
    "from tqdm import tqdm"
   ]
  },
  {
   "cell_type": "code",
   "execution_count": 107,
   "id": "c6cc69f2",
   "metadata": {},
   "outputs": [],
   "source": [
    "data = get_random_enwik(int(1e2))\n",
    "models = [Ngram, Backoff]\n",
    "for i in range(1, 16):\n",
    "    for j in (range(1, 16)):\n",
    "        for model in models:\n",
    "            for other_model in models:\n",
    "                m = model(i)\n",
    "                o = other_model(j)\n",
    "                c, t = compress(m, data)\n",
    "                c = get_bytes_to_write(c)\n",
    "                cc, tt = compress(o, c)\n",
    "                cc = get_bytes_to_write(cc)\n",
    "                if len(cc) < len(c):\n",
    "                    print(m.n, o.n)\n",
    "                \n",
    "        "
   ]
  },
  {
   "cell_type": "markdown",
   "id": "ce5e8ee7",
   "metadata": {},
   "source": [
    "The compressed data is harder to model since it has less patterns/regularities.\n",
    "Testing shows the once one model has compressed the data no other model can compress it further."
   ]
  },
  {
   "cell_type": "code",
   "execution_count": null,
   "id": "b8cae11a",
   "metadata": {},
   "outputs": [],
   "source": []
  },
  {
   "cell_type": "code",
   "execution_count": null,
   "id": "683517f9",
   "metadata": {},
   "outputs": [],
   "source": []
  },
  {
   "cell_type": "code",
   "execution_count": null,
   "id": "06ae81e7",
   "metadata": {},
   "outputs": [],
   "source": []
  },
  {
   "cell_type": "code",
   "execution_count": null,
   "id": "196eb85b",
   "metadata": {},
   "outputs": [],
   "source": []
  }
 ],
 "metadata": {
  "kernelspec": {
   "display_name": "Python 3 (ipykernel)",
   "language": "python",
   "name": "python3"
  },
  "language_info": {
   "codemirror_mode": {
    "name": "ipython",
    "version": 3
   },
   "file_extension": ".py",
   "mimetype": "text/x-python",
   "name": "python",
   "nbconvert_exporter": "python",
   "pygments_lexer": "ipython3",
   "version": "3.10.12"
  }
 },
 "nbformat": 4,
 "nbformat_minor": 5
}
