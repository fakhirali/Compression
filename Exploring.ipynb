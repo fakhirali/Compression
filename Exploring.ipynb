{
 "cells": [
  {
   "cell_type": "code",
   "execution_count": 1,
   "metadata": {},
   "outputs": [],
   "source": [
    "from tqdm import tqdm\n",
    "import math\n",
    "import numpy as np\n",
    "import matplotlib.pyplot as plt\n",
    "from collections import defaultdict"
   ]
  },
  {
   "cell_type": "code",
   "execution_count": 2,
   "metadata": {},
   "outputs": [],
   "source": [
    "enwik6 = open('enwik6', 'rb').read()"
   ]
  },
  {
   "cell_type": "markdown",
   "metadata": {},
   "source": [
    "**Compression**\n",
    "\n",
    "= Coding + Modelling\n",
    "\n",
    "Coding: How to store symbols.  \n",
    "Modelling: Which symbols are more probable.\n",
    "\n",
    "We want to code the most probable symbols in the least amount of bits. And vice versa.\n",
    "\n",
    "Coding is largely solved (arithmetic coding)  \n",
    "Modelling is proven unsolvable."
   ]
  },
  {
   "cell_type": "code",
   "execution_count": 3,
   "metadata": {},
   "outputs": [],
   "source": [
    "enwik6_zip = open('enwik6.zip', 'rb').read()"
   ]
  },
  {
   "cell_type": "code",
   "execution_count": 4,
   "metadata": {},
   "outputs": [
    {
     "data": {
      "text/plain": [
       "2.8007440895361713"
      ]
     },
     "execution_count": 4,
     "metadata": {},
     "output_type": "execute_result"
    }
   ],
   "source": [
    "len(enwik6) / len(enwik6_zip)"
   ]
  },
  {
   "cell_type": "markdown",
   "metadata": {},
   "source": [
    "**Baseline Compression factors (enwik6)**:  \n",
    "\n",
    "| Model | bpc |\n",
    "|-------|-------|\n",
    "| Zip Compression | 2.8007440895361713 (actual) |\n",
    "| Simple Byte Frequency | 1.320 (worst case) |\n",
    "| byte tri gram | 1.710 (worst case) |\n",
    "| starlit | 8.68 (on enwik9) |"
   ]
  },
  {
   "cell_type": "markdown",
   "metadata": {},
   "source": [
    "Shannon and Weaver (1949) proved that the best you can do for a symbol with probability p is assign a code\n",
    "of length $log_2 1/p$"
   ]
  },
  {
   "cell_type": "markdown",
   "metadata": {},
   "source": [
    "Simple char frequency (0 order model)"
   ]
  },
  {
   "cell_type": "code",
   "execution_count": 5,
   "metadata": {},
   "outputs": [
    {
     "name": "stderr",
     "output_type": "stream",
     "text": [
      "100%|████████████████████████████| 1004232/1004232 [00:00<00:00, 2054942.31it/s]\n"
     ]
    }
   ],
   "source": [
    "freqs = defaultdict(int)\n",
    "bits = 0\n",
    "total = 0\n",
    "for i in tqdm(enwik6):\n",
    "    bits += 1 + math.log2(1 / ((freqs[i] + 1)/(total + 256)))  \n",
    "    freqs[i] += 1\n",
    "    total += 1"
   ]
  },
  {
   "cell_type": "code",
   "execution_count": 6,
   "metadata": {
    "scrolled": false
   },
   "outputs": [
    {
     "data": {
      "text/plain": [
       "1.3201943620319303"
      ]
     },
     "execution_count": 6,
     "metadata": {},
     "output_type": "execute_result"
    }
   ],
   "source": [
    "len(enwik6) / (bits/8)"
   ]
  },
  {
   "cell_type": "markdown",
   "metadata": {},
   "source": [
    "char level bi-gram"
   ]
  },
  {
   "cell_type": "code",
   "execution_count": 7,
   "metadata": {},
   "outputs": [],
   "source": [
    "n = 1"
   ]
  },
  {
   "cell_type": "code",
   "execution_count": 8,
   "metadata": {},
   "outputs": [
    {
     "name": "stderr",
     "output_type": "stream",
     "text": [
      "100%|█████████████████████████████| 1004231/1004231 [00:01<00:00, 720162.20it/s]\n"
     ]
    }
   ],
   "source": [
    "freqs = defaultdict(lambda: defaultdict(int)) #freqs[context][char] = count\n",
    "bits = 0\n",
    "total = 0\n",
    "context = enwik6[:n]\n",
    "for i in tqdm(enwik6[n:]):\n",
    "    prob = ((freqs[context][i] + 1) / (sum(freqs[context].values()) + 256))\n",
    "#     print(freqs[context][i], prob)\n",
    "    bits += 1 + math.log2(1 / prob)   \n",
    "    freqs[context][i] += 1 \n",
    "    context += bytes([i])\n",
    "    context = context[-n:]\n"
   ]
  },
  {
   "cell_type": "code",
   "execution_count": 9,
   "metadata": {
    "scrolled": false
   },
   "outputs": [
    {
     "data": {
      "text/plain": [
       "1.6137634914266308"
      ]
     },
     "execution_count": 9,
     "metadata": {},
     "output_type": "execute_result"
    }
   ],
   "source": [
    "len(enwik6) / (bits/8)"
   ]
  },
  {
   "cell_type": "markdown",
   "metadata": {},
   "source": [
    "char level tri-gram"
   ]
  },
  {
   "cell_type": "code",
   "execution_count": 10,
   "metadata": {},
   "outputs": [],
   "source": [
    "n = 2"
   ]
  },
  {
   "cell_type": "code",
   "execution_count": 11,
   "metadata": {},
   "outputs": [
    {
     "name": "stderr",
     "output_type": "stream",
     "text": [
      "100%|█████████████████████████████| 1004230/1004230 [00:01<00:00, 779310.59it/s]\n"
     ]
    }
   ],
   "source": [
    "freqs = defaultdict(lambda: defaultdict(int)) #freqs[context][char] = count\n",
    "bits = 0\n",
    "total = 0\n",
    "context = enwik6[:n]\n",
    "for i in tqdm(enwik6[n:]):\n",
    "    prob = ((freqs[context][i] + 1) / (sum(freqs[context].values()) + 256))\n",
    "#     print(freqs[context][i], prob)\n",
    "    bits += 1 + math.log2(1 / prob)   \n",
    "    freqs[context][i] += 1 \n",
    "    context += bytes([i])\n",
    "    context = context[-n:]\n"
   ]
  },
  {
   "cell_type": "code",
   "execution_count": 12,
   "metadata": {
    "scrolled": false
   },
   "outputs": [
    {
     "data": {
      "text/plain": [
       "1.7099700762813315"
      ]
     },
     "execution_count": 12,
     "metadata": {},
     "output_type": "execute_result"
    }
   ],
   "source": [
    "len(enwik6) / (bits/8)"
   ]
  },
  {
   "cell_type": "markdown",
   "metadata": {},
   "source": [
    "char level 4-gram"
   ]
  },
  {
   "cell_type": "code",
   "execution_count": 78,
   "metadata": {},
   "outputs": [],
   "source": [
    "n = 3"
   ]
  },
  {
   "cell_type": "code",
   "execution_count": 79,
   "metadata": {},
   "outputs": [
    {
     "name": "stderr",
     "output_type": "stream",
     "text": [
      "100%|█████████████████████████████| 1004229/1004229 [00:01<00:00, 711861.37it/s]\n"
     ]
    }
   ],
   "source": [
    "freqs = defaultdict(lambda: defaultdict(int)) #freqs[context][char] = count\n",
    "bits = 0\n",
    "total = 0\n",
    "context = enwik6[:n]\n",
    "for i in tqdm(enwik6[n:]):\n",
    "    prob = ((freqs[context][i] + 1) / (sum(freqs[context].values()) + 256))\n",
    "#     print(freqs[context][i], prob)\n",
    "    bits += 1 + math.log2(1 / prob)   \n",
    "    freqs[context][i] += 1 \n",
    "    context += bytes([i])\n",
    "    context = context[-n:]"
   ]
  },
  {
   "cell_type": "code",
   "execution_count": 80,
   "metadata": {
    "scrolled": true
   },
   "outputs": [
    {
     "data": {
      "text/plain": [
       "1.5526526216737395"
      ]
     },
     "execution_count": 80,
     "metadata": {},
     "output_type": "execute_result"
    }
   ],
   "source": [
    "len(enwik6) / (bits/8)"
   ]
  },
  {
   "cell_type": "markdown",
   "metadata": {},
   "source": [
    "TODO: Backoff would be nice also the thing where all less n grams are used with some weights"
   ]
  },
  {
   "cell_type": "code",
   "execution_count": null,
   "metadata": {},
   "outputs": [],
   "source": [
    "n = 2\n",
    "freqs = defaultdict(lambda: defaultdict(int)) #freqs[context][char] = count\n",
    "bits = 0\n",
    "total = 0\n",
    "context = ''\n",
    "for i in tqdm(enwik6[n:]):\n",
    "    prob = ((freqs[context][i] + 1) / (sum(freqs[context].values()) + 256))\n",
    "    bits += 1 + math.log2(1 / prob)   \n",
    "    freqs[context][i] += 1 \n",
    "    context += bytes([i])\n",
    "    context = context[-n:]"
   ]
  },
  {
   "cell_type": "code",
   "execution_count": null,
   "metadata": {},
   "outputs": [],
   "source": []
  },
  {
   "cell_type": "code",
   "execution_count": null,
   "metadata": {},
   "outputs": [],
   "source": []
  },
  {
   "cell_type": "code",
   "execution_count": null,
   "metadata": {},
   "outputs": [],
   "source": []
  },
  {
   "cell_type": "code",
   "execution_count": null,
   "metadata": {},
   "outputs": [],
   "source": []
  },
  {
   "cell_type": "code",
   "execution_count": null,
   "metadata": {},
   "outputs": [],
   "source": []
  },
  {
   "cell_type": "markdown",
   "metadata": {},
   "source": [
    "**Arithmetic Encoding**"
   ]
  },
  {
   "cell_type": "code",
   "execution_count": 109,
   "metadata": {},
   "outputs": [],
   "source": [
    "n = 2"
   ]
  },
  {
   "cell_type": "code",
   "execution_count": 114,
   "metadata": {
    "scrolled": true
   },
   "outputs": [
    {
     "name": "stderr",
     "output_type": "stream",
     "text": [
      "  0%|                                     | 8/1004230 [00:00<03:33, 4698.84it/s]"
     ]
    },
    {
     "name": "stdout",
     "output_type": "stream",
     "text": [
      "0.39453125 0.390625\n",
      "0.39215087890625 0.3921356201171875\n",
      "0.3921418786048889 0.39214181900024414\n",
      "0.3921418415848166 0.39214184135198593\n",
      "0.3921418414602158 0.3921418414593063\n",
      "0.39214184145967934 0.3921418414596758\n",
      "0.3921418414596773 0.39214184145967723\n",
      "0.39214184145967723 0.39214184145967723\n"
     ]
    },
    {
     "name": "stderr",
     "output_type": "stream",
     "text": [
      "\n"
     ]
    },
    {
     "ename": "AssertionError",
     "evalue": "range is 0.0",
     "output_type": "error",
     "traceback": [
      "\u001b[0;31m---------------------------------------------------------------------------\u001b[0m",
      "\u001b[0;31mAssertionError\u001b[0m                            Traceback (most recent call last)",
      "Cell \u001b[0;32mIn[114], line 14\u001b[0m\n\u001b[1;32m     12\u001b[0m \u001b[38;5;28;01massert\u001b[39;00m \u001b[38;5;28msum\u001b[39m(probs) \u001b[38;5;241m==\u001b[39m \u001b[38;5;241m1\u001b[39m, \u001b[38;5;124mf\u001b[39m\u001b[38;5;124m\"\u001b[39m\u001b[38;5;124msum of probs is \u001b[39m\u001b[38;5;132;01m{\u001b[39;00m\u001b[38;5;28msum\u001b[39m(probs)\u001b[38;5;132;01m}\u001b[39;00m\u001b[38;5;124m\"\u001b[39m\n\u001b[1;32m     13\u001b[0m r \u001b[38;5;241m=\u001b[39m upper \u001b[38;5;241m-\u001b[39m lower\n\u001b[0;32m---> 14\u001b[0m \u001b[38;5;28;01massert\u001b[39;00m r \u001b[38;5;241m>\u001b[39m \u001b[38;5;241m0\u001b[39m, \u001b[38;5;124mf\u001b[39m\u001b[38;5;124m\"\u001b[39m\u001b[38;5;124mrange is \u001b[39m\u001b[38;5;132;01m{\u001b[39;00mr\u001b[38;5;132;01m}\u001b[39;00m\u001b[38;5;124m\"\u001b[39m\n\u001b[1;32m     15\u001b[0m upper \u001b[38;5;241m=\u001b[39m lower \u001b[38;5;241m+\u001b[39m (r \u001b[38;5;241m*\u001b[39m \u001b[38;5;28msum\u001b[39m(probs[:i]))\n\u001b[1;32m     16\u001b[0m lower \u001b[38;5;241m=\u001b[39m lower \u001b[38;5;241m+\u001b[39m (r \u001b[38;5;241m*\u001b[39m \u001b[38;5;28msum\u001b[39m(probs[:i\u001b[38;5;241m-\u001b[39m\u001b[38;5;241m1\u001b[39m]))\n",
      "\u001b[0;31mAssertionError\u001b[0m: range is 0.0"
     ]
    }
   ],
   "source": [
    "freqs = defaultdict(lambda: defaultdict(int)) #freqs[context][char] = count\n",
    "bits = 0\n",
    "total = 0\n",
    "context = enwik6[:n]\n",
    "lower = 0\n",
    "upper = 1\n",
    "for i in tqdm(enwik6[n:]):\n",
    "    total = (sum(freqs[context].values()) + 256)\n",
    "    prob = ((freqs[context][i] + 1) / total)\n",
    "    bits += 1 + math.log2(1 / prob)   \n",
    "    probs = [(freqs[context][x] + 1)/total for x in range(256)]\n",
    "    assert sum(probs) == 1, f\"sum of probs is {sum(probs)}\"\n",
    "    r = upper - lower\n",
    "    assert r > 0, f\"range is {r}\"\n",
    "    upper = lower + (r * sum(probs[:i]))\n",
    "    lower = lower + (r * sum(probs[:i-1]))\n",
    "    print(upper, lower)\n",
    "    freqs[context][i] += 1 \n",
    "    context += bytes([i])\n",
    "    context = context[-n:]"
   ]
  },
  {
   "cell_type": "code",
   "execution_count": null,
   "metadata": {},
   "outputs": [],
   "source": []
  },
  {
   "cell_type": "code",
   "execution_count": null,
   "metadata": {},
   "outputs": [],
   "source": []
  },
  {
   "cell_type": "code",
   "execution_count": null,
   "metadata": {},
   "outputs": [],
   "source": []
  },
  {
   "cell_type": "code",
   "execution_count": null,
   "metadata": {},
   "outputs": [],
   "source": []
  }
 ],
 "metadata": {
  "kernelspec": {
   "display_name": "Python 3 (ipykernel)",
   "language": "python",
   "name": "python3"
  },
  "language_info": {
   "codemirror_mode": {
    "name": "ipython",
    "version": 3
   },
   "file_extension": ".py",
   "mimetype": "text/x-python",
   "name": "python",
   "nbconvert_exporter": "python",
   "pygments_lexer": "ipython3",
   "version": "3.10.6"
  }
 },
 "nbformat": 4,
 "nbformat_minor": 4
}
