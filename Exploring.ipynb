{
 "cells": [
  {
   "cell_type": "code",
   "execution_count": null,
   "metadata": {},
   "outputs": [],
   "source": []
  },
  {
   "cell_type": "code",
   "execution_count": 3,
   "metadata": {},
   "outputs": [],
   "source": [
    "from tqdm import tqdm\n",
    "import math\n",
    "import numpy as np\n",
    "import matplotlib.pyplot as plt\n",
    "from collections import defaultdict"
   ]
  },
  {
   "cell_type": "code",
   "execution_count": 4,
   "metadata": {},
   "outputs": [],
   "source": [
    "enwik6 = open('enwik3', 'rb').read()"
   ]
  },
  {
   "cell_type": "markdown",
   "metadata": {},
   "source": [
    "**Compression**\n",
    "\n",
    "= Coding + Modelling\n",
    "\n",
    "Coding: How to store symbols.  \n",
    "Modelling: Which symbols are more probable.\n",
    "\n",
    "We want to code the most probable symbols in the least amount of bits. And vice versa.\n",
    "\n",
    "Coding is largely solved (arithmetic coding)  \n",
    "Modelling is proven unsolvable."
   ]
  },
  {
   "cell_type": "code",
   "execution_count": 6,
   "metadata": {},
   "outputs": [],
   "source": [
    "enwik6_zip = open('enwik3.zip', 'rb').read()"
   ]
  },
  {
   "cell_type": "code",
   "execution_count": 7,
   "metadata": {},
   "outputs": [
    {
     "data": {
      "text/plain": [
       "1.968503937007874"
      ]
     },
     "execution_count": 7,
     "metadata": {},
     "output_type": "execute_result"
    }
   ],
   "source": [
    "len(enwik6) / len(enwik6_zip)"
   ]
  },
  {
   "cell_type": "markdown",
   "metadata": {},
   "source": [
    "**Baseline Compression factors (enwik6)**:  \n",
    "\n",
    "| Model | bpc |\n",
    "|-------|-------|\n",
    "| Gzip Compression | 2.8007440895361713 (actual) |\n",
    "| Simple Byte Frequency | 1.320 (worst case) |\n",
    "| byte tri gram | 1.710 (worst case) |\n",
    "| starlit | 8.68 (on enwik9) |"
   ]
  },
  {
   "cell_type": "markdown",
   "metadata": {},
   "source": [
    "Shannon and Weaver (1949) proved that the best you can do for a symbol with probability p is assign a code\n",
    "of length $log_2 1/p$"
   ]
  },
  {
   "cell_type": "markdown",
   "metadata": {},
   "source": [
    "Simple char frequency (0 order model)"
   ]
  },
  {
   "cell_type": "code",
   "execution_count": 9,
   "metadata": {},
   "outputs": [
    {
     "name": "stderr",
     "output_type": "stream",
     "text": [
      "100%|██████████████████████████████████| 1000/1000 [00:00<00:00, 2016492.31it/s]\n"
     ]
    }
   ],
   "source": [
    "freqs = defaultdict(int)\n",
    "bits = 0\n",
    "total = 0\n",
    "for i in tqdm(enwik6):\n",
    "    bits += math.log2(1 / ((freqs[i] + 1)/(total + 256)))  \n",
    "    freqs[i] += 1\n",
    "    total += 1"
   ]
  },
  {
   "cell_type": "code",
   "execution_count": 10,
   "metadata": {
    "scrolled": false
   },
   "outputs": [
    {
     "data": {
      "text/plain": [
       "1.4544341956495894"
      ]
     },
     "execution_count": 10,
     "metadata": {},
     "output_type": "execute_result"
    }
   ],
   "source": [
    "len(enwik6) / (bits/8)"
   ]
  },
  {
   "cell_type": "code",
   "execution_count": 11,
   "metadata": {},
   "outputs": [
    {
     "data": {
      "text/plain": [
       "687.5525912352282"
      ]
     },
     "execution_count": 11,
     "metadata": {},
     "output_type": "execute_result"
    }
   ],
   "source": [
    "bits / 8"
   ]
  },
  {
   "cell_type": "markdown",
   "metadata": {},
   "source": [
    "n-grams"
   ]
  },
  {
   "cell_type": "code",
   "execution_count": 12,
   "metadata": {},
   "outputs": [],
   "source": [
    "class Ngram_model:\n",
    "    def __init__(self, n):\n",
    "        self.n = n\n",
    "        self.freqs = defaultdict(lambda: defaultdict(int)) #freqs[context][char] = count\n",
    "        \n",
    "    def get_bits(self, enwik):\n",
    "        bits = 0\n",
    "        total = 0\n",
    "        context = enwik[:self.n]\n",
    "        for i in (enwik[self.n:]):\n",
    "            prob = ((self.freqs[context][i] + 1) / (sum(self.freqs[context].values()) + 256))\n",
    "        #     print(freqs[context][i], prob)\n",
    "            bits += math.log2(1 / prob)   \n",
    "            self.freqs[context][i] += 1 \n",
    "            context += bytes([i])\n",
    "            context = context[-self.n:]\n",
    "        return bits"
   ]
  },
  {
   "cell_type": "code",
   "execution_count": 13,
   "metadata": {},
   "outputs": [
    {
     "data": {
      "text/plain": [
       "[<matplotlib.lines.Line2D at 0x7ff138178e20>]"
      ]
     },
     "execution_count": 13,
     "metadata": {},
     "output_type": "execute_result"
    },
    {
     "data": {
      "image/png": "[encoded data removed]",
      "text/plain": [
       "<Figure size 432x288 with 1 Axes>"
      ]
     },
     "metadata": {
      "needs_background": "light"
     },
     "output_type": "display_data"
    }
   ],
   "source": [
    "models = [Ngram_model(i) for i in range(1,5)]\n",
    "bits = len(enwik6) / (np.array([m.get_bits(enwik6) for m in models])/8)\n",
    "plt.plot(range(1,5), bits)"
   ]
  },
  {
   "cell_type": "code",
   "execution_count": 15,
   "metadata": {},
   "outputs": [
    {
     "data": {
      "text/plain": [
       "array([562.14777822, 594.4770994 , 624.41473396, 650.7992537 ])"
      ]
     },
     "execution_count": 15,
     "metadata": {},
     "output_type": "execute_result"
    }
   ],
   "source": [
    "(np.array([m.get_bits(enwik6) for m in models])/8)"
   ]
  },
  {
   "cell_type": "code",
   "execution_count": null,
   "metadata": {},
   "outputs": [],
   "source": []
  },
  {
   "cell_type": "markdown",
   "metadata": {},
   "source": [
    "TODO: Backoff would be nice also the thing where all less n grams are used with some weights"
   ]
  },
  {
   "cell_type": "code",
   "execution_count": null,
   "metadata": {},
   "outputs": [],
   "source": []
  },
  {
   "cell_type": "markdown",
   "metadata": {},
   "source": [
    "**Arithmetic Coding**"
   ]
  },
  {
   "cell_type": "code",
   "execution_count": null,
   "metadata": {},
   "outputs": [],
   "source": [
    "class Model:\n",
    "    def __init__(self, string):\n",
    "        self.freqs = defaultdict(lambda x: 0)\n",
    "        for char in string:\n",
    "            if char not in self.freqs.keys():\n",
    "                self.freqs[char] = 0\n",
    "            self.freqs[char] += 1\n",
    "        for k,v in self.freqs.items():\n",
    "            self.freqs[k] = v/len(string)\n",
    "    def __call__(self,char):\n",
    "        return self.freqs[char]\n",
    "    def display_probs(self):\n",
    "        for k, v in self.freqs.items():\n",
    "            print(f\"{k}: {v}\")"
   ]
  },
  {
   "cell_type": "code",
   "execution_count": null,
   "metadata": {},
   "outputs": [],
   "source": [
    "def string_to_bin(string):\n",
    "    new_string = ''\n",
    "    for char in string:\n",
    "        new_string += bin(ord(char))[2:]\n",
    "    return new_string"
   ]
  },
  {
   "cell_type": "code",
   "execution_count": null,
   "metadata": {},
   "outputs": [],
   "source": [
    "string = 'Fakhir'"
   ]
  },
  {
   "cell_type": "code",
   "execution_count": null,
   "metadata": {},
   "outputs": [],
   "source": [
    "bin_string = string_to_bin(string)\n",
    "bin_string"
   ]
  },
  {
   "cell_type": "code",
   "execution_count": null,
   "metadata": {},
   "outputs": [],
   "source": [
    "m = Model(bin_string)\n",
    "m.display_probs()"
   ]
  },
  {
   "cell_type": "code",
   "execution_count": null,
   "metadata": {},
   "outputs": [],
   "source": [
    "#encoding\n",
    "high, low = 1.0, 0.0\n",
    "for s in bin_string:\n",
    "    if s == '1':\n",
    "        low = low + (high - low) * m(s)\n",
    "    else:\n",
    "        high = low + (high - low) * (1-m(s))\n",
    "    assert high > low"
   ]
  },
  {
   "cell_type": "code",
   "execution_count": null,
   "metadata": {},
   "outputs": [],
   "source": [
    "final_ans = high - (high-low)*0.5\n",
    "assert final_ans < high\n",
    "assert final_ans > low"
   ]
  },
  {
   "cell_type": "code",
   "execution_count": null,
   "metadata": {},
   "outputs": [],
   "source": [
    "final_ans"
   ]
  },
  {
   "cell_type": "code",
   "execution_count": null,
   "metadata": {},
   "outputs": [],
   "source": [
    "m.freqs['0']"
   ]
  },
  {
   "cell_type": "code",
   "execution_count": null,
   "metadata": {},
   "outputs": [],
   "source": [
    "#decoding\n",
    "high, low = 1.0, 0.0\n",
    "decompressed = ''\n",
    "for i in range(len(bin_string)): #len is cheating\n",
    "    middle = high - (high - low)*m.freqs['0']\n",
    "    if final_ans < middle:\n",
    "        decompressed += '0'\n",
    "        high = low + (high - low) * (1-m('0'))\n",
    "    else:\n",
    "        decompressed += '1'\n",
    "        low = low + (high - low) * m('1')\n",
    "    assert high > low"
   ]
  },
  {
   "cell_type": "code",
   "execution_count": null,
   "metadata": {},
   "outputs": [],
   "source": [
    "assert decompressed == bin_string"
   ]
  },
  {
   "cell_type": "code",
   "execution_count": null,
   "metadata": {},
   "outputs": [],
   "source": []
  }
 ],
 "metadata": {
  "kernelspec": {
   "display_name": "Python 3 (ipykernel)",
   "language": "python",
   "name": "python3"
  },
  "language_info": {
   "codemirror_mode": {
    "name": "ipython",
    "version": 3
   },
   "file_extension": ".py",
   "mimetype": "text/x-python",
   "name": "python",
   "nbconvert_exporter": "python",
   "pygments_lexer": "ipython3",
   "version": "3.10.12"
  }
 },
 "nbformat": 4,
 "nbformat_minor": 4
}
